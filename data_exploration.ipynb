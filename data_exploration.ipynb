{
 "cells": [
  {
   "cell_type": "markdown",
   "metadata": {},
   "source": [
    "# Data Exploration"
   ]
  },
  {
   "cell_type": "code",
   "execution_count": 1,
   "metadata": {},
   "outputs": [],
   "source": [
    "import sys\n",
    "\n",
    "import numpy as np\n",
    "import time\n",
    "import matplotlib.pyplot as plt\n",
    "import pandas as pd\n",
    "\n",
    "sys.path.append('src')\n",
    "\n",
    "import dataprep"
   ]
  },
  {
   "cell_type": "code",
   "execution_count": 10,
   "metadata": {},
   "outputs": [],
   "source": [
    "df = dataprep.df\n",
    "df_test = dataprep.df_test\n",
    "df_train = dataprep.df_train\n",
    "df_train_balanced = dataprep.df_train_balanced"
   ]
  },
  {
   "cell_type": "code",
   "execution_count": 5,
   "metadata": {},
   "outputs": [
    {
     "data": {
      "text/html": [
       "<div>\n",
       "<style scoped>\n",
       "    .dataframe tbody tr th:only-of-type {\n",
       "        vertical-align: middle;\n",
       "    }\n",
       "\n",
       "    .dataframe tbody tr th {\n",
       "        vertical-align: top;\n",
       "    }\n",
       "\n",
       "    .dataframe thead th {\n",
       "        text-align: right;\n",
       "    }\n",
       "</style>\n",
       "<table border=\"1\" class=\"dataframe\">\n",
       "  <thead>\n",
       "    <tr style=\"text-align: right;\">\n",
       "      <th></th>\n",
       "      <th>id</th>\n",
       "      <th>location</th>\n",
       "      <th>membrane_or_soluable</th>\n",
       "      <th>is_test</th>\n",
       "      <th>sequence</th>\n",
       "      <th>sequence_limited</th>\n",
       "      <th>sequence_limited_length</th>\n",
       "      <th>sequence_length</th>\n",
       "    </tr>\n",
       "  </thead>\n",
       "  <tbody>\n",
       "    <tr>\n",
       "      <th>0</th>\n",
       "      <td>Q9H400</td>\n",
       "      <td>Cell.membrane</td>\n",
       "      <td>M</td>\n",
       "      <td>True</td>\n",
       "      <td>[M, G, L, P, V, S, W, A, P, P, A, L, W, V, L, ...</td>\n",
       "      <td>[M, G, L, P, V, S, W, A, P, P, A, L, W, V, L, ...</td>\n",
       "      <td>295</td>\n",
       "      <td>295</td>\n",
       "    </tr>\n",
       "    <tr>\n",
       "      <th>1</th>\n",
       "      <td>Q5I0E9</td>\n",
       "      <td>Cell.membrane</td>\n",
       "      <td>M</td>\n",
       "      <td>False</td>\n",
       "      <td>[M, E, V, L, E, E, P, A, P, G, P, G, G, A, D, ...</td>\n",
       "      <td>[M, E, V, L, E, E, P, A, P, G, P, G, G, A, D, ...</td>\n",
       "      <td>566</td>\n",
       "      <td>566</td>\n",
       "    </tr>\n",
       "    <tr>\n",
       "      <th>2</th>\n",
       "      <td>P63033</td>\n",
       "      <td>Cell.membrane</td>\n",
       "      <td>M</td>\n",
       "      <td>False</td>\n",
       "      <td>[M, M, K, T, L, S, S, G, N, C, T, L, N, V, P, ...</td>\n",
       "      <td>[M, M, K, T, L, S, S, G, N, C, T, L, N, V, P, ...</td>\n",
       "      <td>266</td>\n",
       "      <td>266</td>\n",
       "    </tr>\n",
       "    <tr>\n",
       "      <th>3</th>\n",
       "      <td>Q9NR71</td>\n",
       "      <td>Cell.membrane</td>\n",
       "      <td>M</td>\n",
       "      <td>False</td>\n",
       "      <td>[M, A, K, R, T, F, S, N, L, E, T, F, L, I, F, ...</td>\n",
       "      <td>[M, A, K, R, T, F, S, N, L, E, T, F, L, I, F, ...</td>\n",
       "      <td>780</td>\n",
       "      <td>780</td>\n",
       "    </tr>\n",
       "    <tr>\n",
       "      <th>4</th>\n",
       "      <td>Q86XT9</td>\n",
       "      <td>Cell.membrane</td>\n",
       "      <td>M</td>\n",
       "      <td>False</td>\n",
       "      <td>[M, G, N, C, Q, A, G, H, N, L, H, L, C, L, A, ...</td>\n",
       "      <td>[M, G, N, C, Q, A, G, H, N, L, H, L, C, L, A, ...</td>\n",
       "      <td>240</td>\n",
       "      <td>240</td>\n",
       "    </tr>\n",
       "    <tr>\n",
       "      <th>...</th>\n",
       "      <td>...</td>\n",
       "      <td>...</td>\n",
       "      <td>...</td>\n",
       "      <td>...</td>\n",
       "      <td>...</td>\n",
       "      <td>...</td>\n",
       "      <td>...</td>\n",
       "      <td>...</td>\n",
       "    </tr>\n",
       "    <tr>\n",
       "      <th>13853</th>\n",
       "      <td>V5NC32</td>\n",
       "      <td>Extracellular</td>\n",
       "      <td>S</td>\n",
       "      <td>False</td>\n",
       "      <td>[M, F, P, R, V, V, R, L, N, S, R, L, V, S, F, ...</td>\n",
       "      <td>[M, F, P, R, V, V, R, L, N, S, R, L, V, S, F, ...</td>\n",
       "      <td>600</td>\n",
       "      <td>600</td>\n",
       "    </tr>\n",
       "    <tr>\n",
       "      <th>13854</th>\n",
       "      <td>P86368</td>\n",
       "      <td>Extracellular</td>\n",
       "      <td>S</td>\n",
       "      <td>False</td>\n",
       "      <td>[S, L, L, E, F, G, M, M, I, L, E, E, T, G, K, ...</td>\n",
       "      <td>[S, L, L, E, F, G, M, M, I, L, E, E, T, G, K, ...</td>\n",
       "      <td>121</td>\n",
       "      <td>121</td>\n",
       "    </tr>\n",
       "    <tr>\n",
       "      <th>13855</th>\n",
       "      <td>P80156</td>\n",
       "      <td>Extracellular</td>\n",
       "      <td>S</td>\n",
       "      <td>False</td>\n",
       "      <td>[T, K, C, Y, K, T, G, D, R, I, I, S, E, A, C, ...</td>\n",
       "      <td>[T, K, C, Y, K, T, G, D, R, I, I, S, E, A, C, ...</td>\n",
       "      <td>72</td>\n",
       "      <td>72</td>\n",
       "    </tr>\n",
       "    <tr>\n",
       "      <th>13856</th>\n",
       "      <td>Q8NIH1</td>\n",
       "      <td>Extracellular</td>\n",
       "      <td>S</td>\n",
       "      <td>False</td>\n",
       "      <td>[M, H, G, L, L, L, A, A, A, G, L, L, S, L, P, ...</td>\n",
       "      <td>[M, H, G, L, L, L, A, A, A, G, L, L, S, L, P, ...</td>\n",
       "      <td>633</td>\n",
       "      <td>633</td>\n",
       "    </tr>\n",
       "    <tr>\n",
       "      <th>13857</th>\n",
       "      <td>D4APA9</td>\n",
       "      <td>Extracellular</td>\n",
       "      <td>S</td>\n",
       "      <td>False</td>\n",
       "      <td>[M, G, F, I, T, K, A, I, P, L, A, L, A, A, A, ...</td>\n",
       "      <td>[M, G, F, I, T, K, A, I, P, L, A, L, A, A, A, ...</td>\n",
       "      <td>420</td>\n",
       "      <td>420</td>\n",
       "    </tr>\n",
       "  </tbody>\n",
       "</table>\n",
       "<p>13858 rows × 8 columns</p>\n",
       "</div>"
      ],
      "text/plain": [
       "           id       location membrane_or_soluable  is_test  \\\n",
       "0      Q9H400  Cell.membrane                    M     True   \n",
       "1      Q5I0E9  Cell.membrane                    M    False   \n",
       "2      P63033  Cell.membrane                    M    False   \n",
       "3      Q9NR71  Cell.membrane                    M    False   \n",
       "4      Q86XT9  Cell.membrane                    M    False   \n",
       "...       ...            ...                  ...      ...   \n",
       "13853  V5NC32  Extracellular                    S    False   \n",
       "13854  P86368  Extracellular                    S    False   \n",
       "13855  P80156  Extracellular                    S    False   \n",
       "13856  Q8NIH1  Extracellular                    S    False   \n",
       "13857  D4APA9  Extracellular                    S    False   \n",
       "\n",
       "                                                sequence  \\\n",
       "0      [M, G, L, P, V, S, W, A, P, P, A, L, W, V, L, ...   \n",
       "1      [M, E, V, L, E, E, P, A, P, G, P, G, G, A, D, ...   \n",
       "2      [M, M, K, T, L, S, S, G, N, C, T, L, N, V, P, ...   \n",
       "3      [M, A, K, R, T, F, S, N, L, E, T, F, L, I, F, ...   \n",
       "4      [M, G, N, C, Q, A, G, H, N, L, H, L, C, L, A, ...   \n",
       "...                                                  ...   \n",
       "13853  [M, F, P, R, V, V, R, L, N, S, R, L, V, S, F, ...   \n",
       "13854  [S, L, L, E, F, G, M, M, I, L, E, E, T, G, K, ...   \n",
       "13855  [T, K, C, Y, K, T, G, D, R, I, I, S, E, A, C, ...   \n",
       "13856  [M, H, G, L, L, L, A, A, A, G, L, L, S, L, P, ...   \n",
       "13857  [M, G, F, I, T, K, A, I, P, L, A, L, A, A, A, ...   \n",
       "\n",
       "                                        sequence_limited  \\\n",
       "0      [M, G, L, P, V, S, W, A, P, P, A, L, W, V, L, ...   \n",
       "1      [M, E, V, L, E, E, P, A, P, G, P, G, G, A, D, ...   \n",
       "2      [M, M, K, T, L, S, S, G, N, C, T, L, N, V, P, ...   \n",
       "3      [M, A, K, R, T, F, S, N, L, E, T, F, L, I, F, ...   \n",
       "4      [M, G, N, C, Q, A, G, H, N, L, H, L, C, L, A, ...   \n",
       "...                                                  ...   \n",
       "13853  [M, F, P, R, V, V, R, L, N, S, R, L, V, S, F, ...   \n",
       "13854  [S, L, L, E, F, G, M, M, I, L, E, E, T, G, K, ...   \n",
       "13855  [T, K, C, Y, K, T, G, D, R, I, I, S, E, A, C, ...   \n",
       "13856  [M, H, G, L, L, L, A, A, A, G, L, L, S, L, P, ...   \n",
       "13857  [M, G, F, I, T, K, A, I, P, L, A, L, A, A, A, ...   \n",
       "\n",
       "       sequence_limited_length  sequence_length  \n",
       "0                          295              295  \n",
       "1                          566              566  \n",
       "2                          266              266  \n",
       "3                          780              780  \n",
       "4                          240              240  \n",
       "...                        ...              ...  \n",
       "13853                      600              600  \n",
       "13854                      121              121  \n",
       "13855                       72               72  \n",
       "13856                      633              633  \n",
       "13857                      420              420  \n",
       "\n",
       "[13858 rows x 8 columns]"
      ]
     },
     "execution_count": 5,
     "metadata": {},
     "output_type": "execute_result"
    }
   ],
   "source": [
    "df"
   ]
  },
  {
   "cell_type": "code",
   "execution_count": 8,
   "metadata": {},
   "outputs": [
    {
     "data": {
      "text/plain": [
       "Index(['id', 'location', 'membrane_or_soluable', 'is_test', 'sequence',\n",
       "       'sequence_limited', 'sequence_limited_length', 'sequence_length'],\n",
       "      dtype='object')"
      ]
     },
     "execution_count": 8,
     "metadata": {},
     "output_type": "execute_result"
    }
   ],
   "source": [
    "# Data Frame\n",
    "df.keys()"
   ]
  },
  {
   "cell_type": "code",
   "execution_count": 11,
   "metadata": {},
   "outputs": [
    {
     "data": {
      "text/plain": [
       "['Cell.membrane',\n",
       " 'Cytoplasm',\n",
       " 'Endoplasmic.reticulum',\n",
       " 'Golgi.apparatus',\n",
       " 'Lysosome/Vacuole',\n",
       " 'Mitochondrion',\n",
       " 'Nucleus',\n",
       " 'Peroxisome',\n",
       " 'Plastid',\n",
       " 'Extracellular']"
      ]
     },
     "execution_count": 11,
     "metadata": {},
     "output_type": "execute_result"
    }
   ],
   "source": [
    "# Location Classification\n",
    "df['location'].unique().tolist()"
   ]
  },
  {
   "cell_type": "code",
   "execution_count": 12,
   "metadata": {},
   "outputs": [
    {
     "data": {
      "text/plain": [
       "location\n",
       "Cell.membrane            273\n",
       "Cytoplasm                508\n",
       "Endoplasmic.reticulum    173\n",
       "Extracellular            393\n",
       "Golgi.apparatus           70\n",
       "Lysosome/Vacuole          64\n",
       "Mitochondrion            302\n",
       "Nucleus                  808\n",
       "Peroxisome                30\n",
       "Plastid                  152\n",
       "Name: id, dtype: int64"
      ]
     },
     "execution_count": 12,
     "metadata": {},
     "output_type": "execute_result"
    }
   ],
   "source": [
    "# Test Set Location Distribution\n",
    "df_test[['id', 'location']].groupby(['location']).count()['id']"
   ]
  },
  {
   "cell_type": "code",
   "execution_count": 13,
   "metadata": {},
   "outputs": [
    {
     "data": {
      "text/plain": [
       "location\n",
       "Cell.membrane            1067\n",
       "Cytoplasm                2034\n",
       "Endoplasmic.reticulum     689\n",
       "Extracellular            1580\n",
       "Golgi.apparatus           286\n",
       "Lysosome/Vacuole          257\n",
       "Mitochondrion            1208\n",
       "Nucleus                  3235\n",
       "Peroxisome                124\n",
       "Plastid                   605\n",
       "Name: id, dtype: int64"
      ]
     },
     "execution_count": 13,
     "metadata": {},
     "output_type": "execute_result"
    }
   ],
   "source": [
    "# Train Set Location Distribution\n",
    "df_train[['id', 'location']].groupby(['location']).count()['id']"
   ]
  },
  {
   "cell_type": "code",
   "execution_count": 14,
   "metadata": {},
   "outputs": [
    {
     "data": {
      "text/plain": [
       "location\n",
       "Cell.membrane             423\n",
       "Cytoplasm                 746\n",
       "Endoplasmic.reticulum     253\n",
       "Extracellular             621\n",
       "Golgi.apparatus           286\n",
       "Lysosome/Vacuole          257\n",
       "Mitochondrion             480\n",
       "Nucleus                  1261\n",
       "Peroxisome                124\n",
       "Plastid                   234\n",
       "Name: id, dtype: int64"
      ]
     },
     "execution_count": 14,
     "metadata": {},
     "output_type": "execute_result"
    }
   ],
   "source": [
    "# Balanced Train Set Location Distribution\n",
    "df_train_balanced[['id', 'location']].groupby(['location']).count()['id']"
   ]
  },
  {
   "cell_type": "code",
   "execution_count": 20,
   "metadata": {},
   "outputs": [
    {
     "data": {
      "image/png": "[encoded data removed]",
      "text/plain": [
       "<Figure size 432x288 with 1 Axes>"
      ]
     },
     "metadata": {
      "needs_background": "light"
     },
     "output_type": "display_data"
    }
   ],
   "source": [
    "# Histogram of sequence length limited to 1000 max\n",
    "plt.hist(df['sequence_limited_length'])\n",
    "plt.show()"
   ]
  },
  {
   "cell_type": "code",
   "execution_count": null,
   "metadata": {},
   "outputs": [],
   "source": []
  }
 ],
 "metadata": {
  "kernelspec": {
   "display_name": "Python 3",
   "language": "python",
   "name": "python3"
  },
  "language_info": {
   "codemirror_mode": {
    "name": "ipython",
    "version": 3
   },
   "file_extension": ".py",
   "mimetype": "text/x-python",
   "name": "python",
   "nbconvert_exporter": "python",
   "pygments_lexer": "ipython3",
   "version": "3.6.8"
  }
 },
 "nbformat": 4,
 "nbformat_minor": 4
}
