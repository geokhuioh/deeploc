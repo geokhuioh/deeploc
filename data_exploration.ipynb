{
 "cells": [
  {
   "cell_type": "markdown",
   "metadata": {},
   "source": [
    "# Data Exploration"
   ]
  },
  {
   "cell_type": "code",
   "execution_count": 1,
   "metadata": {},
   "outputs": [],
   "source": [
    "import mxnet as mx\n",
    "import numpy as np\n",
    "import time\n",
    "import matplotlib.pyplot as plt\n",
    "import pandas as pd\n"
   ]
  },
  {
   "cell_type": "code",
   "execution_count": 2,
   "metadata": {},
   "outputs": [],
   "source": [
    "def download_file(url, path):\n",
    "    import requests\n",
    "    myfile = requests.get(url)\n",
    "    with open('data/deeploc_data.fasta', 'wb') as f:\n",
    "        f.write(myfile.content)\n",
    "        "
   ]
  },
  {
   "cell_type": "code",
   "execution_count": 3,
   "metadata": {},
   "outputs": [],
   "source": [
    "data_file = 'data/deeploc_data.fasta'\n",
    "data_url = 'http://www.cbs.dtu.dk/services/DeepLoc-1.0/deeploc_data.fasta'\n",
    "# download_file(data_url, data_file)"
   ]
  },
  {
   "cell_type": "code",
   "execution_count": 4,
   "metadata": {},
   "outputs": [],
   "source": [
    "def parse_classifications(text):\n",
    "    m = dict()\n",
    "    parts = text.split('-')\n",
    "    m['location'] = parts[:-1]\n",
    "    m['membrane_or_soluable'] = parts[-1]\n",
    "    return m\n",
    "\n",
    "def parse_description(desc):\n",
    "    # remove leading '>'\n",
    "    desc = desc[1:]\n",
    "    \n",
    "    parts = desc.split()\n",
    "    \n",
    "    m = dict()\n",
    "    \n",
    "    m['id'] = parts[0]\n",
    "    m.update(parse_classifications(parts[1]))\n",
    "    \n",
    "    is_test = False\n",
    "    if (len(parts) == 3):\n",
    "        is_test = parts[2] == 'test'\n",
    "    m['is_test'] = is_test\n",
    "    return m\n",
    "\n",
    "def parse_record(description, sequence):\n",
    "    description = description.strip()\n",
    "    sequence = sequence.strip()\n",
    "    \n",
    "    m = parse_description(description)\n",
    "    m['sequence'] = list(sequence)\n",
    "    \n",
    "    return m\n",
    "\n",
    "def parse_data_file(file):\n",
    "    data = []\n",
    "    with open(file, 'r') as f:\n",
    "        line = f.readline()\n",
    "        while line:\n",
    "            desc = line\n",
    "            seq = f.readline()\n",
    "            data.append(parse_record(desc, seq))\n",
    "            line = f.readline()\n",
    "    return data"
   ]
  },
  {
   "cell_type": "code",
   "execution_count": 5,
   "metadata": {},
   "outputs": [],
   "source": [
    "data_all = parse_data_file(data_file)"
   ]
  },
  {
   "cell_type": "code",
   "execution_count": 6,
   "metadata": {},
   "outputs": [],
   "source": [
    "df_all = pd.DataFrame(data_all)"
   ]
  },
  {
   "cell_type": "code",
   "execution_count": 7,
   "metadata": {},
   "outputs": [
    {
     "data": {
      "text/plain": [
       "id                      14004\n",
       "location                14004\n",
       "membrane_or_soluable    14004\n",
       "is_test                 14004\n",
       "sequence                14004\n",
       "dtype: int64"
      ]
     },
     "execution_count": 7,
     "metadata": {},
     "output_type": "execute_result"
    }
   ],
   "source": [
    "df_all.count()"
   ]
  },
  {
   "cell_type": "code",
   "execution_count": 8,
   "metadata": {},
   "outputs": [],
   "source": [
    "def is_test_pred(m):\n",
    "    return m['is_test']\n",
    "\n",
    "def is_unknown_pred(m):\n",
    "    return m['soluable'] == 'U'\n",
    "\n",
    "def single_loc_pred(m):\n",
    "    return len(m['location']) == 1\n",
    "\n",
    "def valid_record_pred(m):\n",
    "    return single_loc_pred(m)\n",
    "\n",
    "def training_pred(m):\n",
    "    return not is_test_pred(m) and not is_unknown_pred(m) and single_loc_pred(m)"
   ]
  },
  {
   "cell_type": "code",
   "execution_count": 9,
   "metadata": {},
   "outputs": [],
   "source": [
    "def select_valid_records(data):\n",
    "    return list(filter(valid_record_pred, data))\n",
    "\n",
    "data_valid = select_valid_records(data_all)\n",
    "    "
   ]
  },
  {
   "cell_type": "code",
   "execution_count": 10,
   "metadata": {},
   "outputs": [],
   "source": [
    "df = pd.DataFrame(data_valid)"
   ]
  },
  {
   "cell_type": "code",
   "execution_count": 11,
   "metadata": {},
   "outputs": [
    {
     "data": {
      "text/plain": [
       "id                      13858\n",
       "location                13858\n",
       "membrane_or_soluable    13858\n",
       "is_test                 13858\n",
       "sequence                13858\n",
       "dtype: int64"
      ]
     },
     "execution_count": 11,
     "metadata": {},
     "output_type": "execute_result"
    }
   ],
   "source": [
    "df.count()"
   ]
  },
  {
   "cell_type": "code",
   "execution_count": 12,
   "metadata": {},
   "outputs": [],
   "source": [
    "# convert list to single element\n",
    "df['location'] = df['location'].apply(lambda x : x[0])"
   ]
  },
  {
   "cell_type": "code",
   "execution_count": 13,
   "metadata": {},
   "outputs": [
    {
     "data": {
      "text/html": [
       "<div>\n",
       "<style scoped>\n",
       "    .dataframe tbody tr th:only-of-type {\n",
       "        vertical-align: middle;\n",
       "    }\n",
       "\n",
       "    .dataframe tbody tr th {\n",
       "        vertical-align: top;\n",
       "    }\n",
       "\n",
       "    .dataframe thead th {\n",
       "        text-align: right;\n",
       "    }\n",
       "</style>\n",
       "<table border=\"1\" class=\"dataframe\">\n",
       "  <thead>\n",
       "    <tr style=\"text-align: right;\">\n",
       "      <th></th>\n",
       "      <th>id</th>\n",
       "      <th>membrane_or_soluable</th>\n",
       "      <th>is_test</th>\n",
       "      <th>sequence</th>\n",
       "    </tr>\n",
       "    <tr>\n",
       "      <th>location</th>\n",
       "      <th></th>\n",
       "      <th></th>\n",
       "      <th></th>\n",
       "      <th></th>\n",
       "    </tr>\n",
       "  </thead>\n",
       "  <tbody>\n",
       "    <tr>\n",
       "      <th>Cell.membrane</th>\n",
       "      <td>1067</td>\n",
       "      <td>1067</td>\n",
       "      <td>1067</td>\n",
       "      <td>1067</td>\n",
       "    </tr>\n",
       "    <tr>\n",
       "      <th>Cytoplasm</th>\n",
       "      <td>2034</td>\n",
       "      <td>2034</td>\n",
       "      <td>2034</td>\n",
       "      <td>2034</td>\n",
       "    </tr>\n",
       "    <tr>\n",
       "      <th>Endoplasmic.reticulum</th>\n",
       "      <td>689</td>\n",
       "      <td>689</td>\n",
       "      <td>689</td>\n",
       "      <td>689</td>\n",
       "    </tr>\n",
       "    <tr>\n",
       "      <th>Extracellular</th>\n",
       "      <td>1580</td>\n",
       "      <td>1580</td>\n",
       "      <td>1580</td>\n",
       "      <td>1580</td>\n",
       "    </tr>\n",
       "    <tr>\n",
       "      <th>Golgi.apparatus</th>\n",
       "      <td>286</td>\n",
       "      <td>286</td>\n",
       "      <td>286</td>\n",
       "      <td>286</td>\n",
       "    </tr>\n",
       "    <tr>\n",
       "      <th>Lysosome/Vacuole</th>\n",
       "      <td>257</td>\n",
       "      <td>257</td>\n",
       "      <td>257</td>\n",
       "      <td>257</td>\n",
       "    </tr>\n",
       "    <tr>\n",
       "      <th>Mitochondrion</th>\n",
       "      <td>1208</td>\n",
       "      <td>1208</td>\n",
       "      <td>1208</td>\n",
       "      <td>1208</td>\n",
       "    </tr>\n",
       "    <tr>\n",
       "      <th>Nucleus</th>\n",
       "      <td>3235</td>\n",
       "      <td>3235</td>\n",
       "      <td>3235</td>\n",
       "      <td>3235</td>\n",
       "    </tr>\n",
       "    <tr>\n",
       "      <th>Peroxisome</th>\n",
       "      <td>124</td>\n",
       "      <td>124</td>\n",
       "      <td>124</td>\n",
       "      <td>124</td>\n",
       "    </tr>\n",
       "    <tr>\n",
       "      <th>Plastid</th>\n",
       "      <td>605</td>\n",
       "      <td>605</td>\n",
       "      <td>605</td>\n",
       "      <td>605</td>\n",
       "    </tr>\n",
       "  </tbody>\n",
       "</table>\n",
       "</div>"
      ],
      "text/plain": [
       "                         id  membrane_or_soluable  is_test  sequence\n",
       "location                                                            \n",
       "Cell.membrane          1067                  1067     1067      1067\n",
       "Cytoplasm              2034                  2034     2034      2034\n",
       "Endoplasmic.reticulum   689                   689      689       689\n",
       "Extracellular          1580                  1580     1580      1580\n",
       "Golgi.apparatus         286                   286      286       286\n",
       "Lysosome/Vacuole        257                   257      257       257\n",
       "Mitochondrion          1208                  1208     1208      1208\n",
       "Nucleus                3235                  3235     3235      3235\n",
       "Peroxisome              124                   124      124       124\n",
       "Plastid                 605                   605      605       605"
      ]
     },
     "execution_count": 13,
     "metadata": {},
     "output_type": "execute_result"
    }
   ],
   "source": [
    "df.where(lambda x : x['is_test'] == False).groupby(['location']).count()"
   ]
  },
  {
   "cell_type": "code",
   "execution_count": null,
   "metadata": {},
   "outputs": [],
   "source": []
  },
  {
   "cell_type": "code",
   "execution_count": null,
   "metadata": {},
   "outputs": [],
   "source": [
    "    "
   ]
  },
  {
   "cell_type": "code",
   "execution_count": null,
   "metadata": {},
   "outputs": [],
   "source": []
  },
  {
   "cell_type": "code",
   "execution_count": 14,
   "metadata": {},
   "outputs": [
    {
     "data": {
      "text/plain": [
       "array(['Cell.membrane', 'Cytoplasm', 'Endoplasmic.reticulum',\n",
       "       'Golgi.apparatus', 'Lysosome/Vacuole', 'Mitochondrion', 'Nucleus',\n",
       "       'Peroxisome', 'Plastid', 'Extracellular'], dtype=object)"
      ]
     },
     "execution_count": 14,
     "metadata": {},
     "output_type": "execute_result"
    }
   ],
   "source": [
    "df['location'].unique()"
   ]
  },
  {
   "cell_type": "code",
   "execution_count": 15,
   "metadata": {},
   "outputs": [],
   "source": [
    "def limit_sequence(xs):\n",
    "    if len(xs) > 1000:\n",
    "        return xs[:500] + xs[-500:]\n",
    "    else:\n",
    "        return xs\n"
   ]
  },
  {
   "cell_type": "code",
   "execution_count": 16,
   "metadata": {},
   "outputs": [],
   "source": [
    "df['sequence_limited'] =  df['sequence'].apply(limit_sequence)"
   ]
  },
  {
   "cell_type": "code",
   "execution_count": 17,
   "metadata": {},
   "outputs": [],
   "source": [
    "df_train = df.drop(df[df.is_test == True].index, inplace = False)\n",
    "df_test =  df.drop(df[df.is_test == False].index, inplace = False)\n"
   ]
  },
  {
   "cell_type": "code",
   "execution_count": 18,
   "metadata": {},
   "outputs": [],
   "source": [
    "def encode_sequence(df):\n",
    "    total = df['id'].count()\n",
    "    data = np.zeros((total, 1000, 20))\n",
    "    i = 0\n",
    "    for r, row in df.iterrows():\n",
    "        for j, a in enumerate(row['sequence_limited']):\n",
    "            if (a == 'A'):\n",
    "                data[i][j][0] = 1\n",
    "            elif (a == 'B'):\n",
    "                data[i][j][2] = 0.5\n",
    "                data[i][j][11] = 0.5\n",
    "            elif (a == 'C'):\n",
    "                data[i][j][1] = 1\n",
    "            elif (a == 'D'):\n",
    "                data[i][j][2] = 1\n",
    "            elif (a == 'E'):\n",
    "                data[i][j][3] = 1\n",
    "            elif (a == 'F'):\n",
    "                data[i][j][4] = 1\n",
    "            elif (a == 'G'):\n",
    "                data[i][j][5] = 1\n",
    "            elif (a == 'H'):\n",
    "                data[i][j][6] = 1\n",
    "            elif (a == 'I'):\n",
    "                data[i][j][7] = 1\n",
    "            elif (a == 'K'):\n",
    "                data[i][j][8] = 1\n",
    "            elif (a == 'L'):\n",
    "                data[i][j][9] = 1\n",
    "            elif (a == 'M'):\n",
    "                data[i][j][10] = 1\n",
    "            elif (a == 'N'):\n",
    "                data[i][j][11] = 1\n",
    "            elif (a == 'P'):\n",
    "                data[i][j][12] = 1\n",
    "            elif (a == 'Q'):\n",
    "                data[i][j][13] = 1\n",
    "            elif (a == 'R'):\n",
    "                data[i][j][14] = 1\n",
    "            elif (a == 'S'):\n",
    "                data[i][j][15] = 1\n",
    "            elif (a == 'T'):\n",
    "                data[i][j][16] = 1\n",
    "            elif (a == 'U'):\n",
    "                pass\n",
    "            elif (a == 'V'):\n",
    "                data[i][j][17] = 1\n",
    "            elif (a == 'W'):\n",
    "                data[i][j][18] = 1\n",
    "            elif (a == 'X'):\n",
    "                for k in range(20):\n",
    "                    data[i][j][k] = 0.05\n",
    "            elif (a == 'Y'):\n",
    "                data[i][j][19] = 1\n",
    "            elif (a == 'Z'):\n",
    "                data[i][j][3] = 0.5\n",
    "                data[i][j][13] = 0.5\n",
    "        i = i+1\n",
    "    return data\n"
   ]
  },
  {
   "cell_type": "code",
   "execution_count": 19,
   "metadata": {},
   "outputs": [],
   "source": [
    "def encode_label(df):\n",
    "    total = df['id'].count()\n",
    "    data = np.empty((total))\n",
    "    i = 0\n",
    "    for r, row in df.iterrows():\n",
    "        l = row['location']\n",
    "        if (l == 'Nucleus'):\n",
    "            data[i] = 0\n",
    "        elif (l == 'Cytoplasm'):\n",
    "            data[i] = 1\n",
    "        elif (l == 'Extracellular'):\n",
    "            data[i] = 2\n",
    "        elif (l == 'Mitochondrion'):\n",
    "            data[i] = 3\n",
    "        elif (l == 'Cell.membrane'):\n",
    "            data[i] = 4\n",
    "        elif (l == 'Endoplasmic.reticulum'):\n",
    "            data[i] = 5\n",
    "        elif (l == 'Plastid'):\n",
    "            data[i] = 6\n",
    "        elif (l == 'Golgi.apparatus'):\n",
    "            data[i] = 7\n",
    "        elif (l == 'Lysosome/Vacuole'):\n",
    "            data[i] = 8\n",
    "        elif (l == 'Peroxisome'):\n",
    "            data[i] = 9\n",
    "        i = i+1\n",
    "        \n",
    "    return data\n",
    "    "
   ]
  },
  {
   "cell_type": "code",
   "execution_count": 20,
   "metadata": {},
   "outputs": [],
   "source": [
    "def encode_mask(df):\n",
    "    total = df['id'].count()\n",
    "    data = np.zeros((total, 1000))\n",
    "    i = 0\n",
    "    for r, row in df.iterrows():\n",
    "        for j, a in enumerate(row['sequence_limited']):\n",
    "            data[i][j] = 1\n",
    "        i = i+1\n",
    "    return data\n",
    "    "
   ]
  },
  {
   "cell_type": "code",
   "execution_count": 21,
   "metadata": {},
   "outputs": [],
   "source": [
    "def encode_partition(df):\n",
    "    total = df['id'].count()\n",
    "    data = np.zeros((total))\n",
    "    for i in range(total):\n",
    "        data[i] = (i % 4) + 1\n",
    "    return data\n",
    "        "
   ]
  },
  {
   "cell_type": "code",
   "execution_count": 22,
   "metadata": {},
   "outputs": [
    {
     "data": {
      "text/plain": [
       "array([1., 2., 3., ..., 3., 4., 1.])"
      ]
     },
     "execution_count": 22,
     "metadata": {},
     "output_type": "execute_result"
    }
   ],
   "source": [
    "encode_partition(df_train)"
   ]
  },
  {
   "cell_type": "code",
   "execution_count": 24,
   "metadata": {},
   "outputs": [],
   "source": [
    "mask_train = encode_mask(df_train)\n",
    "mask_test = encode_mask(df_test)\n",
    "X_train = encode_sequence(df_train)\n",
    "X_test = encode_sequence(df_test)\n",
    "y_train = encode_label(df_train)\n",
    "y_test = encode_label(df_test)\n",
    "partition = encode_partition(df_train)\n",
    "\n",
    "np.savez('data/deeploc_full.npz',\n",
    "         X_train=X_train,\n",
    "         X_test=X_test,\n",
    "         mask_train=mask_train,\n",
    "         mask_test=mask_test,\n",
    "         y_train=y_train,\n",
    "         y_test=y_test,\n",
    "         partition=partition)\n"
   ]
  },
  {
   "cell_type": "code",
   "execution_count": null,
   "metadata": {},
   "outputs": [],
   "source": [
    "m = dict()\n",
    "\n",
    "def f(l):\n",
    "    for x in l:\n",
    "        if x in m:\n",
    "            m[x] = m[x] + 1\n",
    "        else:\n",
    "            m[x] = 1\n",
    "\n",
    "df['sequence_limited'].apply(f)\n",
    "m"
   ]
  },
  {
   "cell_type": "code",
   "execution_count": null,
   "metadata": {},
   "outputs": [],
   "source": [
    "m = dict()\n",
    "\n",
    "def f(l):\n",
    "    for x in l:\n",
    "        if x in m:\n",
    "            m[x] = m[x] + 1\n",
    "        else:\n",
    "            m[x] = 1\n",
    "\n",
    "df['sequence'].apply(f)\n",
    "m"
   ]
  },
  {
   "cell_type": "code",
   "execution_count": null,
   "metadata": {},
   "outputs": [],
   "source": [
    "cond = df['sequence'].apply(lambda xs : 'X' in xs)\n",
    "\n",
    "df[cond]"
   ]
  },
  {
   "cell_type": "code",
   "execution_count": null,
   "metadata": {},
   "outputs": [],
   "source": [
    "df['length'] = df['sequence'].apply(len)\n"
   ]
  },
  {
   "cell_type": "code",
   "execution_count": null,
   "metadata": {},
   "outputs": [],
   "source": [
    "{'A',  # 0\n",
    " 'B',  # aspartate or asparagine D or N\n",
    " 'C',  # 1\n",
    " 'D',  # 2\n",
    " 'E',  # 3\n",
    " 'F',  # 4\n",
    " 'G',  # 5\n",
    " 'H',  # 6\n",
    " 'I',  # 7\n",
    " 'K',  # 8\n",
    " 'L',  # 9\n",
    " 'M',  # 10\n",
    " 'N',  # 11\n",
    " 'P',  # 12\n",
    " 'Q',  # 13\n",
    " 'R',  # 14\n",
    " 'S',  # 15\n",
    " 'T',  # 16\n",
    " 'U',  # --\n",
    " 'V',  # 17\n",
    " 'W',  # 18\n",
    " 'X',  # any\n",
    " 'Y',  # 19\n",
    " 'Z'} # glutamate or glutamine E or Q"
   ]
  },
  {
   "cell_type": "code",
   "execution_count": null,
   "metadata": {},
   "outputs": [],
   "source": [
    "numpy.histogram(df['length'])"
   ]
  },
  {
   "cell_type": "code",
   "execution_count": null,
   "metadata": {},
   "outputs": [],
   "source": [
    "plt.hist(df['length'])\n",
    "plt.show()"
   ]
  },
  {
   "cell_type": "code",
   "execution_count": null,
   "metadata": {},
   "outputs": [],
   "source": [
    "ys = xs[:2] + xs[-2:]"
   ]
  },
  {
   "cell_type": "code",
   "execution_count": null,
   "metadata": {},
   "outputs": [],
   "source": [
    "df"
   ]
  },
  {
   "cell_type": "code",
   "execution_count": null,
   "metadata": {},
   "outputs": [],
   "source": [
    "train_file = 'subcellular_localization/data/train.npz'\n",
    "test_file = 'subcellular_localization/data/test.npz'\n",
    "\n",
    "train_npz = numpy.load(train_file)\n",
    "test_npz = numpy.load(test_file)\n",
    "\n",
    "mask_train = train_npz['mask_train']\n",
    "partition = train_npz['partition']\n",
    "X_train = train_npz['X_train']\n",
    "y_train = train_npz['y_train']\n",
    "X_test = test_npz['X_test']\n",
    "mask_test = test_npz['mask_test']\n",
    "y_test = test_npz['y_test']\n",
    "\n",
    "train_npz.close()\n",
    "test_npz.close()"
   ]
  },
  {
   "cell_type": "code",
   "execution_count": null,
   "metadata": {},
   "outputs": [],
   "source": [
    "plt.hist(y_test, bins=10)"
   ]
  },
  {
   "cell_type": "code",
   "execution_count": null,
   "metadata": {},
   "outputs": [],
   "source": [
    " numpy.unique(y_train, return_counts=True)"
   ]
  },
  {
   "cell_type": "code",
   "execution_count": null,
   "metadata": {},
   "outputs": [],
   "source": [
    " numpy.unique(y_test, return_counts=True)"
   ]
  },
  {
   "cell_type": "code",
   "execution_count": null,
   "metadata": {},
   "outputs": [],
   "source": [
    "y_train.shape"
   ]
  },
  {
   "cell_type": "code",
   "execution_count": null,
   "metadata": {},
   "outputs": [],
   "source": []
  }
 ],
 "metadata": {
  "kernelspec": {
   "display_name": "Python 3",
   "language": "python",
   "name": "python3"
  },
  "language_info": {
   "codemirror_mode": {
    "name": "ipython",
    "version": 3
   },
   "file_extension": ".py",
   "mimetype": "text/x-python",
   "name": "python",
   "nbconvert_exporter": "python",
   "pygments_lexer": "ipython3",
   "version": "3.6.8"
  }
 },
 "nbformat": 4,
 "nbformat_minor": 4
}
